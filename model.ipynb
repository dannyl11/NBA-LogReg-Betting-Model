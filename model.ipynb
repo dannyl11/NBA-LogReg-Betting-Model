{
 "cells": [
  {
   "cell_type": "markdown",
   "id": "5008ac0d",
   "metadata": {},
   "source": [
    "## NBA Moneyline Model"
   ]
  },
  {
   "cell_type": "markdown",
   "id": "087175a4",
   "metadata": {},
   "source": [
    "Since sportsbook odds are simply implied probabilities, I am building a logistic regression model to \"price\" the bets myself. By comparing the odds the model gives a team to win with the moneyline odds Vegas gives them to win, I can uncover value if my probability > sportsbook probability."
   ]
  },
  {
   "cell_type": "markdown",
   "id": "55263f2f",
   "metadata": {},
   "source": [
    "#### Libraries"
   ]
  },
  {
   "cell_type": "code",
   "execution_count": null,
   "id": "ad45d9c5",
   "metadata": {},
   "outputs": [],
   "source": [
    "! pip install nba_api scikit-learn"
   ]
  },
  {
   "cell_type": "code",
   "execution_count": 2,
   "id": "b9e7d3f7",
   "metadata": {},
   "outputs": [],
   "source": [
    "from nba_api.stats.static import teams\n",
    "from nba_api.stats.endpoints import leaguegamefinder\n",
    "from sklearn.model_selection import train_test_split\n",
    "from sklearn.linear_model import LogisticRegression\n",
    "import pandas as pd"
   ]
  },
  {
   "cell_type": "markdown",
   "id": "9c5a87d1",
   "metadata": {},
   "source": [
    "#### Data"
   ]
  },
  {
   "cell_type": "markdown",
   "id": "6d1471c1",
   "metadata": {},
   "source": [
    "I decided to use the following target variables for each team: Net Rating (NRtg), Simple Rating System (SRS), Effective Field Goal Percentage (eFG%), Offensive Rebound Percentage (ORB%), Turnover Percentage (TOV%), Defensive Rebound Percentage (DRB%), and whether the team was home or away (inputted as binary 1 (home) or 0 (away)). "
   ]
  },
  {
   "cell_type": "markdown",
   "id": "86164537",
   "metadata": {},
   "source": [
    "I pulled the data from basketball-reference.com. Here is what it looks like:"
   ]
  },
  {
   "cell_type": "code",
   "execution_count": 11,
   "id": "64634f51",
   "metadata": {},
   "outputs": [
    {
     "name": "stdout",
     "output_type": "stream",
     "text": [
      "                     Team    SRS  NRtg  OeFG%  OTOV%  OORB%  DRB%\n",
      "0   Oklahoma City Thunder  12.70  12.8  0.560   10.3   24.2  74.6\n",
      "1          Boston Celtics   8.28   9.5  0.561   10.8   25.7  76.0\n",
      "2     Cleveland Cavaliers   8.81   9.5  0.578   11.6   25.9  74.8\n",
      "3  Minnesota Timberwolves   5.15   5.1  0.554   13.0   25.8  75.1\n",
      "4    Los Angeles Clippers   4.84   4.8  0.554   13.4   24.4  77.5\n"
     ]
    }
   ],
   "source": [
    "df = pd.read_csv('nba_24-25_advanced_team_stats.csv')\n",
    "team_stats = df[['Team', 'SRS','NRtg', 'OeFG%','OTOV%','OORB%', 'DRB%']].copy()\n",
    "team_stats['Team'] = team_stats['Team'].apply(lambda x: x.replace('*', ''))\n",
    "print(team_stats.head())"
   ]
  },
  {
   "cell_type": "markdown",
   "id": "563a1bf7",
   "metadata": {},
   "source": [
    "Now, we can start to build up the training and testing dataset. As an avid Bucks fan living in Boston, I will be betting on the Milwaukee Bucks at home in their last regular season matchup against the Boston Celtics as an example for this notebook. I begin by pulling data for every single regular season game."
   ]
  },
  {
   "cell_type": "code",
   "execution_count": 12,
   "id": "0b5e6f49",
   "metadata": {},
   "outputs": [
    {
     "name": "stdout",
     "output_type": "stream",
     "text": [
      "  SEASON_ID     TEAM_ID TEAM_ABBREVIATION        TEAM_NAME     GAME_ID  \\\n",
      "0     22025  1610612749               MIL  Milwaukee Bucks  1522500063   \n",
      "1     22025  1610612749               MIL  Milwaukee Bucks  1522500048   \n",
      "2     22025  1610612749               MIL  Milwaukee Bucks  1522500030   \n",
      "3     22025  1610612749               MIL  Milwaukee Bucks  1522500016   \n",
      "4     22025  1610612749               MIL  Milwaukee Bucks  1522500006   \n",
      "\n",
      "    GAME_DATE      MATCHUP WL  MIN  PTS  ...  FT_PCT  OREB  DREB  REB  AST  \\\n",
      "0  2025-07-18  MIL vs. MIA  L  201   92  ...   0.810    13    31   44   16   \n",
      "1  2025-07-16    MIL @ CHI  L  199   96  ...   0.900     9    26   35   23   \n",
      "2  2025-07-13    MIL @ LAC  L  201   91  ...   0.826     5    24   29   24   \n",
      "3  2025-07-12  MIL vs. CLE  L  201   83  ...   0.652    12    18   30   16   \n",
      "4  2025-07-10  MIL vs. DEN  W  199   90  ...   0.565     3    24   27   25   \n",
      "\n",
      "   STL  BLK  TOV  PF  PLUS_MINUS  \n",
      "0    9    9   17  17        -1.0  \n",
      "1    6    6   15  35        -6.0  \n",
      "2   12    4   22  27       -15.0  \n",
      "3   12   10    8  25       -10.0  \n",
      "4    4    3   13  20         1.0  \n",
      "\n",
      "[5 rows x 28 columns]\n"
     ]
    }
   ],
   "source": [
    "team_id = '1610612749' #Bucks corresponding team ID to pull data\n",
    "\n",
    "gamefinder = leaguegamefinder.LeagueGameFinder(team_id_nullable=str(team_id),\n",
    "                                        season_type_nullable='Regular Season')\n",
    "games = gamefinder.get_data_frames()[0]\n",
    "print(games.head())"
   ]
  },
  {
   "cell_type": "markdown",
   "id": "d5bb6d25",
   "metadata": {},
   "source": [
    "Now, we can filter the last 200 games and grab the opponent, home/away, and result data in chronological order."
   ]
  },
  {
   "cell_type": "code",
   "execution_count": 14,
   "id": "a164dcf9",
   "metadata": {},
   "outputs": [
    {
     "name": "stdout",
     "output_type": "stream",
     "text": [
      "  Opponent  H1/A0  W/L\n",
      "0    Magic      1    1\n",
      "1    76ers      1    0\n",
      "2  Wizards      0    1\n",
      "3    Magic      0    1\n",
      "4     Nets      1    1\n",
      "Rows: 200\n"
     ]
    }
   ],
   "source": [
    "#map team abbreviation to mascot\n",
    "team_dict = {'GSW': 'Warriors', 'CHI': 'Bulls', 'CLE': 'Cavaliers', \n",
    "            'ATL': 'Hawks', 'BOS': 'Celtics', 'BKN': 'Nets', 'CHA': 'Hornets', \n",
    "            'DAL': 'Mavericks', 'DEN': 'Nuggets', 'DET': 'Pistons', \n",
    "            'HOU': 'Rockets', 'IND': 'Pacers', 'LAC': 'Clippers', \n",
    "            'LAL': 'Lakers', 'MEM': 'Grizzlies', 'MIA': 'Heat', 'MIL': 'Bucks', \n",
    "            'MIN': 'Timberwolves', 'NOP': 'Pelicans', 'NYK': 'Knicks',\n",
    "            'OKC': 'Thunder', 'ORL': 'Magic', 'PHI': '76ers', 'PHX': 'Suns',\n",
    "            'POR': 'Blazers', 'SAC': 'Kings', 'SAS': 'Spurs', \n",
    "            'TOR': 'Raptors','UTA': 'Jazz', 'WAS': 'Wizards'}\n",
    "\n",
    "def getOpponent(str):\n",
    "    if 'vs.' in str:\n",
    "        opp_index = str.find('.')\n",
    "        opponent = str[opp_index+2:]\n",
    "        return opponent, 1\n",
    "    elif '@' in str:\n",
    "        opp_index = str.find('@')\n",
    "        opponent = str[opp_index+2:]\n",
    "        return opponent, 0\n",
    "\n",
    "opponents = []\n",
    "win_loss = []\n",
    "home_away = []\n",
    "for index, row in games.head(200).iterrows():\n",
    "    matchup = games.loc[index, 'MATCHUP']\n",
    "    opponent, homeAway = getOpponent(matchup)\n",
    "    mascot = team_dict[opponent]\n",
    "    opponents.append(mascot)\n",
    "    home_away.append(homeAway)\n",
    "    outcome = games.loc[index, 'WL']\n",
    "    if outcome == 'W':\n",
    "        win_loss.append(1)\n",
    "    else:\n",
    "        win_loss.append(0)\n",
    "game_log = pd.DataFrame(\n",
    "    {\n",
    "        'Opponent': opponents[::-1],\n",
    "        'H1/A0': home_away[::-1],\n",
    "        'W/L': win_loss[::-1]\n",
    "    }\n",
    ")\n",
    "print(game_log.head())\n",
    "print(f'Rows: {len(game_log)}')"
   ]
  },
  {
   "cell_type": "markdown",
   "id": "9b51b31f",
   "metadata": {},
   "source": [
    "Now, we just need to fill in the feature column data from the basketball-reference csv file in cell 3."
   ]
  },
  {
   "cell_type": "code",
   "execution_count": 16,
   "id": "f2d42032",
   "metadata": {},
   "outputs": [
    {
     "name": "stdout",
     "output_type": "stream",
     "text": [
      "  Opponent  H1/A0  W/L  NRtg    SRS   eFG%  ORB%  TOV%  DRB%\n",
      "0    Magic      1    1  -0.2  -0.70  0.510  25.3  12.9  77.0\n",
      "1    76ers      1    0  -6.3  -6.29  0.527  23.4  12.3  71.8\n",
      "2  Wizards      0    1 -12.3 -12.14  0.512  22.7  13.6  71.9\n",
      "3    Magic      0    1  -0.2  -0.70  0.510  25.3  12.9  77.0\n",
      "4     Nets      1    1  -7.3  -6.95  0.516  24.5  13.7  75.0\n"
     ]
    }
   ],
   "source": [
    "for team in team_stats['Team']:\n",
    "    fullName = team.split()\n",
    "    mascot = fullName[-1]\n",
    "    team_stats.loc[team_stats['Team'] == team, 'Team'] = mascot\n",
    "nrtg = []\n",
    "srs = []\n",
    "eFG = []\n",
    "off_reb_pct = []\n",
    "turnover_pct = []\n",
    "def_reb_pct = []\n",
    "for opposition in game_log['Opponent']:\n",
    "    temp = team_stats.loc[team_stats['Team'] == opposition]\n",
    "    row = temp.iloc[0].to_dict()\n",
    "    nrtg.append(row['NRtg'])\n",
    "    srs.append(row['SRS'])\n",
    "    eFG.append(row['OeFG%'])\n",
    "    off_reb_pct.append(row['OORB%'])\n",
    "    turnover_pct.append(row['OTOV%'])\n",
    "    def_reb_pct.append(row['DRB%'])\n",
    "features = {'NRtg': nrtg, 'SRS': srs, 'eFG%': eFG, 'ORB%': off_reb_pct,\n",
    "            'TOV%': turnover_pct, 'DRB%': def_reb_pct}\n",
    "for key in features:\n",
    "    game_log[key] = features[key]\n",
    "print(game_log.head())"
   ]
  },
  {
   "cell_type": "markdown",
   "id": "33b763a6",
   "metadata": {},
   "source": [
    "Lastly, we create the dataset that we will make a prediction on."
   ]
  },
  {
   "cell_type": "code",
   "execution_count": 35,
   "id": "d7258314",
   "metadata": {},
   "outputs": [
    {
     "name": "stdout",
     "output_type": "stream",
     "text": [
      "   H1/A0  NRtg   SRS   eFG%  ORB%  TOV%  DRB%\n",
      "0      1   9.5  8.28  0.561  25.7  10.8  76.0\n"
     ]
    }
   ],
   "source": [
    "opponent = 'BOS'\n",
    "prediction_opponent = team_dict[opponent.upper()]\n",
    "venue = 1 #1 for home, 0 for away\n",
    "\n",
    "opp_temp = team_stats.loc[team_stats['Team'] == prediction_opponent]\n",
    "opp_row = opp_temp.iloc[0].to_dict()\n",
    "predict_data = pd.DataFrame(\n",
    "    {\n",
    "        'H1/A0': [venue],\n",
    "        'NRtg': [opp_row['NRtg']],\n",
    "        'SRS': [opp_row['SRS']],\n",
    "        'eFG%': [opp_row['OeFG%']],\n",
    "        'ORB%': [opp_row['OORB%']],\n",
    "        'TOV%': [opp_row['OTOV%']],\n",
    "        'DRB%': [opp_row['DRB%']]\n",
    "    }\n",
    ")\n",
    "print(predict_data)"
   ]
  },
  {
   "cell_type": "markdown",
   "id": "bb26cee4",
   "metadata": {},
   "source": [
    "#### Training the Model"
   ]
  },
  {
   "cell_type": "markdown",
   "id": "4e9a3591",
   "metadata": {},
   "source": [
    "We will use scikit-learn's train_test_split function to split the data into a training and testing set that we can fit the model on. Note that since past results are sequential, shuffle should be set to False when splitting the data."
   ]
  },
  {
   "cell_type": "code",
   "execution_count": null,
   "id": "e929ed9a",
   "metadata": {},
   "outputs": [
    {
     "name": "stdout",
     "output_type": "stream",
     "text": [
      "Training Accuracy: 0.669\n",
      "Test Accuracy: 0.65\n"
     ]
    }
   ],
   "source": [
    "feature_cols = ['H1/A0', 'NRtg', 'SRS', 'eFG%', 'ORB%', 'TOV%', 'DRB%']\n",
    "X = game_log[feature_cols] #features\n",
    "y = game_log['W/L'] #target\n",
    "X_train, X_test, y_train, y_test = train_test_split(X, y, test_size=0.2, shuffle=False)\n",
    "log_reg = LogisticRegression(C=0.5, solver='saga', max_iter=10**5)\n",
    "log_reg.fit(X_train, y_train)\n",
    "\n",
    "train_accuracy = log_reg.score(X_train, y_train)\n",
    "test_accuracy = log_reg.score(X_test, y_test)\n",
    "\n",
    "print(f\"Training Accuracy: {round(train_accuracy, 3)}\")\n",
    "print(f\"Test Accuracy: {round(test_accuracy, 3)}\")"
   ]
  },
  {
   "cell_type": "markdown",
   "id": "4eb96b36",
   "metadata": {},
   "source": [
    "As we can see, the model performs quite well. Since home teams historically have had an advantage, we can use picking the home team every time as a baseline, which yields around a 55% accuracy, compared to our 65% accuracy. Additionally, the similarities between the training and testing accuracy indicate that the model is able to generalize to new data."
   ]
  },
  {
   "cell_type": "markdown",
   "id": "944ef67f",
   "metadata": {},
   "source": [
    "#### Making the Prediction"
   ]
  },
  {
   "cell_type": "code",
   "execution_count": 37,
   "id": "b7bcc89c",
   "metadata": {},
   "outputs": [
    {
     "name": "stdout",
     "output_type": "stream",
     "text": [
      "Win Probability: 0.486\n"
     ]
    }
   ],
   "source": [
    "result = log_reg.predict_proba(predict_data)\n",
    "win_prob = result[0, 1]\n",
    "print(f'Win Probability: {round(win_prob, 3)}')"
   ]
  },
  {
   "cell_type": "markdown",
   "id": "693c2779",
   "metadata": {},
   "source": [
    "We see that the model gives the Bucks a 48.6% chance of winning at home against the Boston Celtics based on the team's historical performances. "
   ]
  },
  {
   "cell_type": "markdown",
   "id": "83dfd05f",
   "metadata": {},
   "source": [
    "#### Finding Value against the Sportsbooks"
   ]
  },
  {
   "cell_type": "markdown",
   "id": "dde1587e",
   "metadata": {},
   "source": [
    "As previously mentioned, sportsbook odds are implied probabilities and it can be easily calculated as such."
   ]
  },
  {
   "cell_type": "markdown",
   "id": "514c1ed1",
   "metadata": {},
   "source": [
    "For negative odds:\n",
    "$$\n",
    "\\text{Implied Probability} = \\frac{|\\text{Odds}|}{|\\text{Odds}| + 100}\n",
    "$$"
   ]
  },
  {
   "cell_type": "markdown",
   "id": "dd3e810a",
   "metadata": {},
   "source": [
    "For positive odds:\n",
    "$$\n",
    "\\text{Implied Probability} = \\frac{100}{\\text{Odds} + 100}\n",
    "$$"
   ]
  },
  {
   "cell_type": "markdown",
   "id": "9ff3709c",
   "metadata": {},
   "source": [
    "BetMGM gave the Milwaukee Bucks +165 odds to win in the matchup from November 2024, thus quoting them at a 37.7% win probability. "
   ]
  },
  {
   "cell_type": "markdown",
   "id": "d9f55091",
   "metadata": {},
   "source": [
    "Therefore, we can calculate exactly how much of an edge we have against the book using expected value. Betting $1 at +165 odds means you receive $2.65, making a $1.65 profit. Let $p=0.486$ be our calculated probability of winning the bet; the expected value is\n",
    "$$\n",
    "EV = (p*2.65) + ((1-p)*0) \\approx 1.29\n",
    "$$"
   ]
  },
  {
   "cell_type": "markdown",
   "id": "43c81c97",
   "metadata": {},
   "source": [
    "So for a $1 bet, we are expected to receive approximately $1.29 or $0.29 profit. Therefore, this is a valuable bet that should be taken."
   ]
  }
 ],
 "metadata": {
  "kernelspec": {
   "display_name": "Python 3",
   "language": "python",
   "name": "python3"
  },
  "language_info": {
   "codemirror_mode": {
    "name": "ipython",
    "version": 3
   },
   "file_extension": ".py",
   "mimetype": "text/x-python",
   "name": "python",
   "nbconvert_exporter": "python",
   "pygments_lexer": "ipython3",
   "version": "3.12.4"
  }
 },
 "nbformat": 4,
 "nbformat_minor": 5
}
